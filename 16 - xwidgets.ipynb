{
 "cells": [
  {
   "cell_type": "markdown",
   "metadata": {},
   "source": [
    "# xwidgets https://github.com/QuantStack/xwidgets\n",
    "\n",
    "## A C++ implementation of the Jupyter Widgets Protocol\n",
    "\n",
    "Xwidgets is a C++ implementation of the Jupyter Widgets Protocol\n",
    "\n",
    "- BSD Licensed\n",
    "\n",
    "Xwidgets provides a fully-fledged backend fir Jupyter Interactive widgets in C++, for the C++ kernel and other xeus-based kernels\n",
    "\n",
    "**Installation:**\n",
    "\n",
    "```bash\n",
    "conda xwidgets -c QuantStack -c conda-forge\n",
    "```"
   ]
  },
  {
   "cell_type": "markdown",
   "metadata": {},
   "source": [
    "## Defining a Slider Widget"
   ]
  },
  {
   "cell_type": "code",
   "execution_count": null,
   "metadata": {
    "scrolled": true
   },
   "outputs": [],
   "source": [
    "#include \"xwidgets/xslider.hpp\""
   ]
  },
  {
   "cell_type": "code",
   "execution_count": null,
   "metadata": {
    "scrolled": true
   },
   "outputs": [],
   "source": [
    "xw::slider<double> slider;\n",
    "\n",
    "slider                 // If the semicolon is ommitted in the last line, the return value is displayed."
   ]
  },
  {
   "cell_type": "code",
   "execution_count": null,
   "metadata": {
    "scrolled": true
   },
   "outputs": [],
   "source": [
    "slider.value = 20;      // Modifying properties of widgets triggers the update of the frontend."
   ]
  },
  {
   "cell_type": "code",
   "execution_count": null,
   "metadata": {
    "scrolled": true
   },
   "outputs": [],
   "source": [
    "slider.value()         // Reading the value requires using the call operator"
   ]
  },
  {
   "cell_type": "code",
   "execution_count": null,
   "metadata": {
    "scrolled": true
   },
   "outputs": [],
   "source": [
    "// changine some more properties\n",
    "slider.max = 40;\n",
    "slider.style().handle_color = \"blue\";\n",
    "slider.orientation = \"vertical\";\n",
    "slider.description = \"A slider\";"
   ]
  },
  {
   "cell_type": "code",
   "execution_count": null,
   "metadata": {
    "scrolled": true
   },
   "outputs": [],
   "source": [
    "#include \"xcpp/xdisplay.hpp\"\n",
    "\n",
    "using xcpp::display;"
   ]
  },
  {
   "cell_type": "code",
   "execution_count": null,
   "metadata": {
    "scrolled": true
   },
   "outputs": [],
   "source": [
    "display(slider)"
   ]
  },
  {
   "cell_type": "markdown",
   "metadata": {},
   "source": [
    "## Using operator chaining to mimic keyword arguments"
   ]
  },
  {
   "cell_type": "code",
   "execution_count": null,
   "metadata": {
    "scrolled": true
   },
   "outputs": [],
   "source": [
    "auto other_slider = xw::slider_generator<double>()\n",
    "    .min(-1.0)\n",
    "    .max(1.0)\n",
    "    .description(\"Another slider\")\n",
    "    .finalize();\n",
    "\n",
    "display(other_slider);"
   ]
  },
  {
   "cell_type": "markdown",
   "metadata": {},
   "source": [
    "# Button widget"
   ]
  },
  {
   "cell_type": "code",
   "execution_count": null,
   "metadata": {
    "scrolled": true
   },
   "outputs": [],
   "source": [
    "#include <iostream>\n",
    "#include \"xwidgets/xbutton.hpp\"\n",
    "#include \"xwidgets/xlabel.hpp\"\n",
    "#include \"xcpp/xdisplay.hpp\"\n",
    "\n",
    "using xcpp::display;"
   ]
  },
  {
   "cell_type": "code",
   "execution_count": null,
   "metadata": {
    "scrolled": true
   },
   "outputs": [],
   "source": [
    "xw::button bt;\n",
    "xw::label lb;"
   ]
  },
  {
   "cell_type": "code",
   "execution_count": null,
   "metadata": {
    "scrolled": true
   },
   "outputs": [],
   "source": [
    "void foo()\n",
    "{\n",
    "    static int count = 0;\n",
    "    ++count;\n",
    "    lb.value = std::to_string(count);\n",
    "}"
   ]
  },
  {
   "cell_type": "code",
   "execution_count": null,
   "metadata": {},
   "outputs": [],
   "source": [
    "lb"
   ]
  },
  {
   "cell_type": "code",
   "execution_count": null,
   "metadata": {
    "scrolled": true
   },
   "outputs": [],
   "source": [
    "bt.on_click(foo);\n",
    "    \n",
    "bt"
   ]
  },
  {
   "cell_type": "code",
   "execution_count": null,
   "metadata": {
    "scrolled": true
   },
   "outputs": [],
   "source": [
    "bt.description = \"button\";"
   ]
  },
  {
   "cell_type": "code",
   "execution_count": null,
   "metadata": {
    "scrolled": true
   },
   "outputs": [],
   "source": [
    "bt.button_style = \"success\";"
   ]
  },
  {
   "cell_type": "code",
   "execution_count": null,
   "metadata": {
    "scrolled": true
   },
   "outputs": [],
   "source": [
    "bt.button_style = \"some invalid value\";  // values are validated upon assignment"
   ]
  },
  {
   "cell_type": "code",
   "execution_count": null,
   "metadata": {
    "scrolled": true
   },
   "outputs": [],
   "source": [
    "std::cout << bt.button_style();"
   ]
  },
  {
   "cell_type": "code",
   "execution_count": null,
   "metadata": {},
   "outputs": [],
   "source": []
  }
 ],
 "metadata": {
  "kernelspec": {
   "display_name": "C++14",
   "language": "C++14",
   "name": "xeus-cling-cpp14"
  },
  "language_info": {
   "codemirror_mode": "text/x-c++src",
   "file_extension": ".cpp",
   "mimetype": "text/x-c++src",
   "name": "c++",
   "version": "-std=c++14"
  }
 },
 "nbformat": 4,
 "nbformat_minor": 2
}
